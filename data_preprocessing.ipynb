{
 "cells": [
  {
   "cell_type": "markdown",
   "id": "10983881-4802-4367-9faf-83715361c189",
   "metadata": {},
   "source": [
    "# Data Preprocessing\n"
   ]
  },
  {
   "cell_type": "markdown",
   "id": "2ab281b8-0fb3-4093-a5d6-ddcdebb6407d",
   "metadata": {},
   "source": [
    "## Importing datasets"
   ]
  },
  {
   "cell_type": "code",
   "execution_count": 2,
   "id": "40a98720-4028-4ec4-a1a8-27c659d1acb0",
   "metadata": {},
   "outputs": [],
   "source": [
    "import pandas as pd"
   ]
  },
  {
   "cell_type": "code",
   "execution_count": 5,
   "id": "ebbf2aba-1575-4035-a500-c013d1d0b6a8",
   "metadata": {},
   "outputs": [
    {
     "data": {
      "text/html": [
       "<div>\n",
       "<style scoped>\n",
       "    .dataframe tbody tr th:only-of-type {\n",
       "        vertical-align: middle;\n",
       "    }\n",
       "\n",
       "    .dataframe tbody tr th {\n",
       "        vertical-align: top;\n",
       "    }\n",
       "\n",
       "    .dataframe thead th {\n",
       "        text-align: right;\n",
       "    }\n",
       "</style>\n",
       "<table border=\"1\" class=\"dataframe\">\n",
       "  <thead>\n",
       "    <tr style=\"text-align: right;\">\n",
       "      <th></th>\n",
       "      <th>07/06/2025</th>\n",
       "      <th>SQ *NIKNAT CONCESSIONS</th>\n",
       "      <th>12.00</th>\n",
       "      <th>Unnamed: 3</th>\n",
       "      <th>1108.76</th>\n",
       "    </tr>\n",
       "  </thead>\n",
       "  <tbody>\n",
       "    <tr>\n",
       "      <th>0</th>\n",
       "      <td>07/06/2025</td>\n",
       "      <td>CPA - PAY MACHINE</td>\n",
       "      <td>3.00</td>\n",
       "      <td>NaN</td>\n",
       "      <td>1096.76</td>\n",
       "    </tr>\n",
       "    <tr>\n",
       "      <th>1</th>\n",
       "      <td>07/05/2025</td>\n",
       "      <td>AMZN Mktp CA*N388B6630</td>\n",
       "      <td>69.29</td>\n",
       "      <td>NaN</td>\n",
       "      <td>1093.76</td>\n",
       "    </tr>\n",
       "    <tr>\n",
       "      <th>2</th>\n",
       "      <td>07/05/2025</td>\n",
       "      <td>CALGARY TRANSIT</td>\n",
       "      <td>3.80</td>\n",
       "      <td>NaN</td>\n",
       "      <td>1024.47</td>\n",
       "    </tr>\n",
       "    <tr>\n",
       "      <th>3</th>\n",
       "      <td>07/05/2025</td>\n",
       "      <td>CALGARY TRANSIT</td>\n",
       "      <td>2.55</td>\n",
       "      <td>NaN</td>\n",
       "      <td>1020.67</td>\n",
       "    </tr>\n",
       "    <tr>\n",
       "      <th>4</th>\n",
       "      <td>07/04/2025</td>\n",
       "      <td>CAFFE LEVANT</td>\n",
       "      <td>7.88</td>\n",
       "      <td>NaN</td>\n",
       "      <td>1018.12</td>\n",
       "    </tr>\n",
       "  </tbody>\n",
       "</table>\n",
       "</div>"
      ],
      "text/plain": [
       "   07/06/2025  SQ *NIKNAT CONCESSIONS  12.00  Unnamed: 3  1108.76\n",
       "0  07/06/2025       CPA - PAY MACHINE   3.00         NaN  1096.76\n",
       "1  07/05/2025  AMZN Mktp CA*N388B6630  69.29         NaN  1093.76\n",
       "2  07/05/2025         CALGARY TRANSIT   3.80         NaN  1024.47\n",
       "3  07/05/2025         CALGARY TRANSIT   2.55         NaN  1020.67\n",
       "4  07/04/2025            CAFFE LEVANT   7.88         NaN  1018.12"
      ]
     },
     "execution_count": 5,
     "metadata": {},
     "output_type": "execute_result"
    }
   ],
   "source": [
    "df_67 = pd.read_csv(\"datasets/june:july spending.csv\")\n",
    "df_78 = pd.read_csv(\"datasets/july:aug spending.csv\")"
   ]
  },
  {
   "cell_type": "markdown",
   "id": "7cd93ac7-b822-4bb5-b474-e9b04b05de4e",
   "metadata": {},
   "source": [
    "## Cleaning"
   ]
  },
  {
   "cell_type": "code",
   "execution_count": null,
   "id": "2b90ad7a-5809-4088-8507-2862c8c64494",
   "metadata": {},
   "outputs": [],
   "source": []
  }
 ],
 "metadata": {
  "kernelspec": {
   "display_name": "Python 3 (ipykernel)",
   "language": "python",
   "name": "python3"
  },
  "language_info": {
   "codemirror_mode": {
    "name": "ipython",
    "version": 3
   },
   "file_extension": ".py",
   "mimetype": "text/x-python",
   "name": "python",
   "nbconvert_exporter": "python",
   "pygments_lexer": "ipython3",
   "version": "3.13.3"
  }
 },
 "nbformat": 4,
 "nbformat_minor": 5
}
