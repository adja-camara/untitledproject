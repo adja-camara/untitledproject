{
 "cells": [
  {
   "cell_type": "markdown",
   "id": "10983881-4802-4367-9faf-83715361c189",
   "metadata": {},
   "source": [
    "# Data Preprocessing\n"
   ]
  },
  {
   "cell_type": "markdown",
   "id": "2ab281b8-0fb3-4093-a5d6-ddcdebb6407d",
   "metadata": {},
   "source": [
    "## Importing datasets"
   ]
  },
  {
   "cell_type": "code",
   "execution_count": null,
   "id": "40a98720-4028-4ec4-a1a8-27c659d1acb0",
   "metadata": {},
   "outputs": [],
   "source": [
    "import pandas as pd"
   ]
  },
  {
   "cell_type": "code",
   "execution_count": null,
   "id": "ebbf2aba-1575-4035-a500-c013d1d0b6a8",
   "metadata": {},
   "outputs": [],
   "source": [
    "df_67 = pd.read_csv(\"datasets/june:july spending.csv\", header=None)\n",
    "df_78 = pd.read_csv(\"datasets/july:aug spending.csv\", header=None)\n",
    "df_may = pd.read_csv(\"datasets/may.csv\", header=None)\n",
    "df_june = pd.read_csv(\"datasets/june.csv\", header=None)"
   ]
  },
  {
   "cell_type": "markdown",
   "id": "7cd93ac7-b822-4bb5-b474-e9b04b05de4e",
   "metadata": {},
   "source": [
    "## Cleaning"
   ]
  },
  {
   "cell_type": "code",
   "execution_count": null,
   "id": "2b90ad7a-5809-4088-8507-2862c8c64494",
   "metadata": {},
   "outputs": [],
   "source": [
    "df_67 = df_67.drop(columns=[3, 4])\n",
    "df_67.columns = ['date', 'name', 'balance']\n",
    "df_67.head()"
   ]
  },
  {
   "cell_type": "code",
   "execution_count": null,
   "id": "08bd89c4-0fda-4236-9090-63651bae634e",
   "metadata": {},
   "outputs": [],
   "source": [
    "df_67['date'] = pd.to_datetime(df_67['date'])"
   ]
  },
  {
   "cell_type": "code",
   "execution_count": null,
   "id": "d1981d8e-2a87-4907-b073-c97ab09ca28c",
   "metadata": {},
   "outputs": [],
   "source": [
    "df_67 = df_67.sort_values(by='date', ascending=False)\n",
    "df_67"
   ]
  },
  {
   "cell_type": "code",
   "execution_count": null,
   "id": "bac77999-7204-4185-a758-c60ff4d137d0",
   "metadata": {},
   "outputs": [],
   "source": [
    "df_78 = df_78.drop(columns=[3])"
   ]
  },
  {
   "cell_type": "code",
   "execution_count": null,
   "id": "7c18e1d4-3c2a-4694-b8f0-930f088f499b",
   "metadata": {},
   "outputs": [],
   "source": [
    "df_78.columns = ['date', 'name', 'balance']\n",
    "df_78['date'] = pd.to_datetime(df_78['date'])\n",
    "df_78 = df_78.sort_values(by='date', ascending=False)\n",
    "df_78.head()"
   ]
  },
  {
   "cell_type": "code",
   "execution_count": null,
   "id": "ce5372f3-aa89-4355-92e8-c7f67461ba9d",
   "metadata": {},
   "outputs": [],
   "source": [
    "df_may.columns = ['date', 'name', 'balance']\n",
    "df_may['date'] = pd.to_datetime(df_may['date'])\n",
    "df_may = df_may.sort_values(by='date', ascending=False)\n",
    "df_may.head()"
   ]
  },
  {
   "cell_type": "code",
   "execution_count": null,
   "id": "92c764ed-fb16-48f8-82d9-7432cf2c1bff",
   "metadata": {},
   "outputs": [],
   "source": [
    "df_june.columns = ['date', 'name', 'balance']\n",
    "df_june['date'] = pd.to_datetime(df_june['date'])\n",
    "df_june = df_june.sort_values(by='date', ascending=False)\n",
    "df_june.head()"
   ]
  },
  {
   "cell_type": "code",
   "execution_count": null,
   "id": "bae8dae4-f909-4a7f-a503-5e02e005a71a",
   "metadata": {},
   "outputs": [],
   "source": [
    "df_all = pd.concat([df_67, df_78, df_may, df_june], ignore_index = True)\n",
    "df_all = df_all.sort_values(by='date', ascending=False)"
   ]
  },
  {
   "cell_type": "code",
   "execution_count": null,
   "id": "5069296b-0c36-4510-a60f-2bbe5f0c3c02",
   "metadata": {},
   "outputs": [],
   "source": [
    "df_all"
   ]
  }
 ],
 "metadata": {
  "kernelspec": {
   "display_name": "Python 3 (ipykernel)",
   "language": "python",
   "name": "python3"
  },
  "language_info": {
   "codemirror_mode": {
    "name": "ipython",
    "version": 3
   },
   "file_extension": ".py",
   "mimetype": "text/x-python",
   "name": "python",
   "nbconvert_exporter": "python",
   "pygments_lexer": "ipython3",
   "version": "3.13.3"
  }
 },
 "nbformat": 4,
 "nbformat_minor": 5
}
